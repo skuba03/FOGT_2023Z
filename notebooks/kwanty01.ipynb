{
 "cells": [
  {
   "cell_type": "code",
   "execution_count": 39,
   "metadata": {},
   "outputs": [],
   "source": [
    "import sympy as sp\n",
    "import numpy as np\n",
    "from scipy.integrate import quad\n",
    "from scipy.stats import norm\n",
    "import matplotlib.pyplot as plt\n",
    "from sympy.utilities import lambdify\n",
    "from matplotlib.animation import FuncAnimation\n",
    "from IPython.display import HTML"
   ]
  },
  {
   "cell_type": "code",
   "execution_count": 40,
   "metadata": {},
   "outputs": [],
   "source": [
    "sp.init_printing()"
   ]
  },
  {
   "cell_type": "code",
   "execution_count": 41,
   "metadata": {},
   "outputs": [
    {
     "data": {
      "image/png": "[encoded data removed]",
      "text/latex": [
       "$\\displaystyle \\left( x, \\  k, \\  a, \\  m, \\  t, \\  \\hbar, \\  n, \\  \\psi{\\left(x \\right)}\\right)$"
      ],
      "text/plain": [
       "(x, k, a, m, t, h̅, n, ψ(x))"
      ]
     },
     "execution_count": 41,
     "metadata": {},
     "output_type": "execute_result"
    }
   ],
   "source": [
    "x = sp.Symbol('x', real=True)\n",
    "k = sp.Symbol('k', real=True, positive=True)\n",
    "a = sp.Symbol('a', real=True)\n",
    "m = sp.Symbol('m', real=True, positive=True)\n",
    "t = sp.Symbol('t', real=True, positive=True)\n",
    "h = sp.Symbol('hbar', real=True, positive=True)\n",
    "n = sp.Symbol('n', integer=True, nonzero=True)\n",
    "psi = sp.Function('psi')\n",
    "\n",
    "x, k, a, m, t, h, n, psi(x)"
   ]
  },
  {
   "cell_type": "markdown",
   "metadata": {},
   "source": [
    "$$\\frac{d^2\\psi(x)}{dx^2} = -k^2\\psi(x)$$"
   ]
  },
  {
   "cell_type": "code",
   "execution_count": 42,
   "metadata": {},
   "outputs": [
    {
     "data": {
      "image/png": "[encoded data removed]",
      "text/latex": [
       "$\\displaystyle \\frac{d^{2}}{d x^{2}} \\psi{\\left(x \\right)}$"
      ],
      "text/plain": [
       "  2      \n",
       " d       \n",
       "───(ψ(x))\n",
       "  2      \n",
       "dx       "
      ]
     },
     "execution_count": 42,
     "metadata": {},
     "output_type": "execute_result"
    }
   ],
   "source": [
    "psi(x).diff(x, x)"
   ]
  },
  {
   "cell_type": "code",
   "execution_count": 43,
   "metadata": {},
   "outputs": [
    {
     "data": {
      "image/png": "[encoded data removed]",
      "text/latex": [
       "$\\displaystyle - k^{2} \\psi{\\left(x \\right)}$"
      ],
      "text/plain": [
       "  2     \n",
       "-k ⋅ψ(x)"
      ]
     },
     "execution_count": 43,
     "metadata": {},
     "output_type": "execute_result"
    }
   ],
   "source": [
    "-k**2 * psi(x)"
   ]
  },
  {
   "cell_type": "code",
   "execution_count": 44,
   "metadata": {},
   "outputs": [
    {
     "data": {
      "image/png": "[encoded data removed]",
      "text/latex": [
       "$\\displaystyle \\frac{d^{2}}{d x^{2}} \\psi{\\left(x \\right)} = - k^{2} \\psi{\\left(x \\right)}$"
      ],
      "text/plain": [
       "  2                 \n",
       " d            2     \n",
       "───(ψ(x)) = -k ⋅ψ(x)\n",
       "  2                 \n",
       "dx                  "
      ]
     },
     "execution_count": 44,
     "metadata": {},
     "output_type": "execute_result"
    }
   ],
   "source": [
    "eq = sp.Eq(psi(x).diff(x, x), -k**2 * psi(x))\n",
    "eq"
   ]
  },
  {
   "cell_type": "code",
   "execution_count": 45,
   "metadata": {},
   "outputs": [
    {
     "data": {
      "image/png": "[encoded data removed]",
      "text/latex": [
       "$\\displaystyle \\psi{\\left(x \\right)} = C_{1} \\sin{\\left(k x \\right)} + C_{2} \\cos{\\left(k x \\right)}$"
      ],
      "text/plain": [
       "ψ(x) = C₁⋅sin(k⋅x) + C₂⋅cos(k⋅x)"
      ]
     },
     "execution_count": 45,
     "metadata": {},
     "output_type": "execute_result"
    }
   ],
   "source": [
    "sp.dsolve(eq, psi(x))"
   ]
  },
  {
   "cell_type": "code",
   "execution_count": 46,
   "metadata": {},
   "outputs": [
    {
     "data": {
      "image/png": "[encoded data removed]",
      "text/latex": [
       "$\\displaystyle \\psi{\\left(x \\right)} = 0$"
      ],
      "text/plain": [
       "ψ(x) = 0"
      ]
     },
     "execution_count": 46,
     "metadata": {},
     "output_type": "execute_result"
    }
   ],
   "source": [
    "sp.dsolve(eq, psi(x), ics={psi(0): 0, psi(a): 0})"
   ]
  },
  {
   "cell_type": "code",
   "execution_count": 47,
   "metadata": {},
   "outputs": [
    {
     "data": {
      "image/png": "[encoded data removed]",
      "text/latex": [
       "$\\displaystyle \\psi{\\left(x \\right)} = C_{1} \\sin{\\left(k x \\right)}$"
      ],
      "text/plain": [
       "ψ(x) = C₁⋅sin(k⋅x)"
      ]
     },
     "execution_count": 47,
     "metadata": {},
     "output_type": "execute_result"
    }
   ],
   "source": [
    "sol = sp.dsolve(eq, psi(x), ics={psi(0): 0})\n",
    "sol"
   ]
  },
  {
   "cell_type": "code",
   "execution_count": 48,
   "metadata": {},
   "outputs": [
    {
     "data": {
      "image/png": "[encoded data removed]",
      "text/latex": [
       "$\\displaystyle \\psi{\\left(x \\right)} = C_{1} \\sin{\\left(\\frac{\\pi n x}{a} \\right)}$"
      ],
      "text/plain": [
       "             ⎛π⋅n⋅x⎞\n",
       "ψ(x) = C₁⋅sin⎜─────⎟\n",
       "             ⎝  a  ⎠"
      ]
     },
     "execution_count": 48,
     "metadata": {},
     "output_type": "execute_result"
    }
   ],
   "source": [
    "sol = sol.subs(k, n * sp.pi / a)\n",
    "sol"
   ]
  },
  {
   "cell_type": "code",
   "execution_count": 49,
   "metadata": {},
   "outputs": [
    {
     "data": {
      "image/png": "[encoded data removed]",
      "text/latex": [
       "$\\displaystyle \\psi{\\left(x \\right)} = \\sqrt{2} \\sqrt{\\frac{1}{a}} \\sin{\\left(\\frac{\\pi n x}{a} \\right)}$"
      ],
      "text/plain": [
       "              ___           \n",
       "             ╱ 1     ⎛π⋅n⋅x⎞\n",
       "ψ(x) = √2⋅  ╱  ─ ⋅sin⎜─────⎟\n",
       "          ╲╱   a     ⎝  a  ⎠"
      ]
     },
     "execution_count": 49,
     "metadata": {},
     "output_type": "execute_result"
    }
   ],
   "source": [
    "sol = sol.subs(sp.Symbol('C1'), sp.sqrt(2 / a))\n",
    "sol"
   ]
  },
  {
   "cell_type": "code",
   "execution_count": 50,
   "metadata": {},
   "outputs": [
    {
     "data": {
      "image/png": "[encoded data removed]",
      "text/latex": [
       "$\\displaystyle \\frac{\\pi^{2} \\hbar^{2} n^{2}}{2 a^{2} m}$"
      ],
      "text/plain": [
       " 2  2  2\n",
       "π ⋅h̅ ⋅n \n",
       "────────\n",
       "    2   \n",
       " 2⋅a ⋅m "
      ]
     },
     "execution_count": 50,
     "metadata": {},
     "output_type": "execute_result"
    }
   ],
   "source": [
    "En = n**2 * sp.pi**2 * h**2 / (2 * m * a**2)\n",
    "En"
   ]
  },
  {
   "cell_type": "code",
   "execution_count": 51,
   "metadata": {},
   "outputs": [
    {
     "data": {
      "image/png": "[encoded data removed]",
      "text/latex": [
       "$\\displaystyle e^{- \\frac{i \\pi^{2} \\hbar n^{2} t}{2 a^{2} m}}$"
      ],
      "text/plain": [
       "     2    2   \n",
       " -ⅈ⋅π ⋅h̅⋅n ⋅t \n",
       " ─────────────\n",
       "        2     \n",
       "     2⋅a ⋅m   \n",
       "ℯ             "
      ]
     },
     "execution_count": 51,
     "metadata": {},
     "output_type": "execute_result"
    }
   ],
   "source": [
    "phi = sp.exp(-sp.I * En * t / h)\n",
    "phi"
   ]
  },
  {
   "cell_type": "code",
   "execution_count": 52,
   "metadata": {},
   "outputs": [
    {
     "data": {
      "image/png": "[encoded data removed]",
      "text/latex": [
       "$\\displaystyle \\sqrt{2} \\sqrt{\\frac{1}{a}} e^{- \\frac{i \\pi^{2} \\hbar n^{2} t}{2 a^{2} m}} \\sin{\\left(\\frac{\\pi n x}{a} \\right)}$"
      ],
      "text/plain": [
       "                2    2              \n",
       "            -ⅈ⋅π ⋅h̅⋅n ⋅t            \n",
       "            ─────────────           \n",
       "       ___         2                \n",
       "      ╱ 1       2⋅a ⋅m       ⎛π⋅n⋅x⎞\n",
       "√2⋅  ╱  ─ ⋅ℯ             ⋅sin⎜─────⎟\n",
       "   ╲╱   a                    ⎝  a  ⎠"
      ]
     },
     "execution_count": 52,
     "metadata": {},
     "output_type": "execute_result"
    }
   ],
   "source": [
    "Psi = sol.rhs * phi\n",
    "Psi"
   ]
  },
  {
   "cell_type": "code",
   "execution_count": 53,
   "metadata": {},
   "outputs": [
    {
     "data": {
      "text/plain": [
       "<function _lambdifygenerated(x, t, n)>"
      ]
     },
     "execution_count": 53,
     "metadata": {},
     "output_type": "execute_result"
    }
   ],
   "source": [
    "Psif = lambdify((x, t, n), Psi.subs({a: 1, m: 1, h: 1}))\n",
    "Psif"
   ]
  },
  {
   "cell_type": "code",
   "execution_count": 54,
   "metadata": {},
   "outputs": [
    {
     "data": {
      "text/plain": [
       "(0.3971182633717983+1.0729930471683005j)"
      ]
     },
     "execution_count": 54,
     "metadata": {},
     "output_type": "execute_result"
    }
   ],
   "source": [
    "Psif(0.3, 2.3, 1)"
   ]
  },
  {
   "cell_type": "markdown",
   "metadata": {},
   "source": [
    "$$<\\omega>=\\int \\Psi^{*} \\hat{\\omega} \\Psi\\ dx$$\n",
    "W stanie stacjonarnym\n",
    "$$<\\omega>=\\int \\psi^{*} \\hat{\\omega} \\psi\\ dx$$\n",
    "\n",
    "$$\\hat{x}=x$$"
   ]
  },
  {
   "cell_type": "code",
   "execution_count": 55,
   "metadata": {},
   "outputs": [
    {
     "data": {
      "image/png": "[encoded data removed]",
      "text/latex": [
       "$\\displaystyle \\frac{2 x \\sin^{2}{\\left(\\frac{\\pi n x}{a} \\right)}}{a}$"
      ],
      "text/plain": [
       "       2⎛π⋅n⋅x⎞\n",
       "2⋅x⋅sin ⎜─────⎟\n",
       "        ⎝  a  ⎠\n",
       "───────────────\n",
       "       a       "
      ]
     },
     "execution_count": 55,
     "metadata": {},
     "output_type": "execute_result"
    }
   ],
   "source": [
    "sol.rhs * x * sol.rhs"
   ]
  },
  {
   "cell_type": "markdown",
   "metadata": {},
   "source": [
    "$$\\sigma_X^2=<x^2>-<x>^2$$"
   ]
  },
  {
   "cell_type": "markdown",
   "metadata": {},
   "source": [
    "$$<p>=?$$\n",
    "$$<p^2>=?$$\n",
    "$$\\sigma_P^2=?$$\n",
    "\n",
    "$$\\sigma_X \\sigma_P \\geq \\frac{\\hbar}{2}$$\n",
    "\n",
    "Spradzić, czy ta zasada nieoznaczoności jest faktycznie dla tej studni potencjału spełniona."
   ]
  },
  {
   "cell_type": "code",
   "execution_count": 60,
   "metadata": {},
   "outputs": [
    {
     "data": {
      "image/png": "[encoded data removed]",
      "text/latex": [
       "$\\displaystyle \\left( \\frac{a}{2}, \\  \\frac{a^{2}}{3} - \\frac{a^{2}}{2 \\pi^{2} n^{2}}, \\  \\frac{a^{2}}{12} - \\frac{a^{2}}{2 \\pi^{2} n^{2}}, \\  \\sqrt{\\frac{a^{2}}{12} - \\frac{a^{2}}{2 \\pi^{2} n^{2}}}\\right)$"
      ],
      "text/plain": [
       "⎛                                     ______________⎞\n",
       "⎜    2       2     2       2         ╱  2       2   ⎟\n",
       "⎜a  a       a     a       a         ╱  a       a    ⎟\n",
       "⎜─, ── - ───────, ── - ───────,    ╱   ── - ─────── ⎟\n",
       "⎜2  3       2  2  12      2  2    ╱    12      2  2 ⎟\n",
       "⎝        2⋅π ⋅n        2⋅π ⋅n   ╲╱          2⋅π ⋅n  ⎠"
      ]
     },
     "execution_count": 60,
     "metadata": {},
     "output_type": "execute_result"
    }
   ],
   "source": [
    "X = sp.integrate(sol.rhs * x * sol.rhs, (x, 0, a)).simplify()\n",
    "square_of_X = sp.integrate(sol.rhs * x**2 * sol.rhs, (x, 0, a)).simplify()\n",
    "square_of_sigma_X = square_of_X-X**2\n",
    "sigma_X=sp.sqrt(square_of_sigma_X)\n",
    "X, square_of_X, square_of_sigma_X, sigma_X"
   ]
  },
  {
   "cell_type": "code",
   "execution_count": 61,
   "metadata": {},
   "outputs": [
    {
     "data": {
      "image/png": "[encoded data removed]",
      "text/latex": [
       "$\\displaystyle \\left( 0, \\  \\frac{\\pi^{2} \\hbar^{2} n^{2}}{a^{2}}, \\  \\frac{\\pi^{2} \\hbar^{2} n^{2}}{a^{2}}, \\  \\pi \\hbar \\left|{\\frac{n}{a}}\\right|\\right)$"
      ],
      "text/plain": [
       "⎛    2  2  2   2  2  2         ⎞\n",
       "⎜   π ⋅h̅ ⋅n   π ⋅h̅ ⋅n       │n│⎟\n",
       "⎜0, ────────, ────────, π⋅h̅⋅│─│⎟\n",
       "⎜       2         2         │a│⎟\n",
       "⎝      a         a             ⎠"
      ]
     },
     "execution_count": 61,
     "metadata": {},
     "output_type": "execute_result"
    }
   ],
   "source": [
    "P=sp.integrate(sol.rhs*-h*sp.I*sol.rhs.diff(x),(x,0,a)).simplify()\n",
    "square_of_P=sp.integrate(sol.rhs * (sol.rhs).diff(x,x)*-h**2, (x, 0, a)).simplify()\n",
    "square_of_sigma_P=square_of_P-P**2\n",
    "sigma_P=sp.sqrt(square_of_sigma_P).simplify()\n",
    "P,square_of_P,square_of_sigma_P,sigma_P"
   ]
  },
  {
   "cell_type": "markdown",
   "metadata": {},
   "source": [
    "Sprawdzam nierówność:\n",
    "$$\\sigma_X \\sigma_P \\geq \\frac{\\hbar}{2}$$"
   ]
  },
  {
   "cell_type": "code",
   "execution_count": 62,
   "metadata": {},
   "outputs": [
    {
     "data": {
      "image/png": "[encoded data removed]",
      "text/latex": [
       "$\\displaystyle \\frac{\\hbar \\sqrt{3 \\pi^{2} n^{2} - 18}}{6}$"
      ],
      "text/plain": [
       "     ______________\n",
       "    ╱    2  2      \n",
       "h̅⋅╲╱  3⋅π ⋅n  - 18 \n",
       "───────────────────\n",
       "         6         "
      ]
     },
     "execution_count": 62,
     "metadata": {},
     "output_type": "execute_result"
    }
   ],
   "source": [
    "check=sigma_P*sigma_X\n",
    "check.simplify()"
   ]
  },
  {
   "cell_type": "markdown",
   "metadata": {},
   "source": [
    "Gdy n jest najmniejsze, czyli n = 1:"
   ]
  },
  {
   "cell_type": "code",
   "execution_count": 65,
   "metadata": {},
   "outputs": [
    {
     "data": {
      "image/png": "[encoded data removed]",
      "text/latex": [
       "$\\displaystyle \\left( 0.567861808386612 \\hbar, \\  \\frac{\\hbar}{2}\\right)$"
      ],
      "text/plain": [
       "⎛                     h̅⎞\n",
       "⎜0.567861808386612⋅h̅, ─⎟\n",
       "⎝                     2⎠"
      ]
     },
     "execution_count": 65,
     "metadata": {},
     "output_type": "execute_result"
    }
   ],
   "source": [
    "left = h*sp.sqrt(3*sp.pi**2-18)/6\n",
    "right = h/2\n",
    "\n",
    "left.evalf(), right"
   ]
  },
  {
   "cell_type": "markdown",
   "metadata": {},
   "source": [
    "Dla najmniejszej wartości n zasada nieoznaczoności jest spełniona, zatem jest także spełniona dla innych n."
   ]
  }
 ],
 "metadata": {
  "kernelspec": {
   "display_name": "fogt-integra-2023-CXMDHbKH-py3.10",
   "language": "python",
   "name": "python3"
  },
  "language_info": {
   "codemirror_mode": {
    "name": "ipython",
    "version": 3
   },
   "file_extension": ".py",
   "mimetype": "text/x-python",
   "name": "python",
   "nbconvert_exporter": "python",
   "pygments_lexer": "ipython3",
   "version": "3.11.5"
  }
 },
 "nbformat": 4,
 "nbformat_minor": 2
}
